{
 "cells": [
  {
   "cell_type": "code",
   "execution_count": 1,
   "id": "689b6c72-cca5-48c6-bc88-74289d1d5b1e",
   "metadata": {},
   "outputs": [
    {
     "name": "stdout",
     "output_type": "stream",
     "text": [
      "Requirement already satisfied: requests in c:\\users\\okzah\\anaconda3\\lib\\site-packages (2.26.0)\n",
      "Requirement already satisfied: idna<4,>=2.5 in c:\\users\\okzah\\anaconda3\\lib\\site-packages (from requests) (3.2)\n",
      "Requirement already satisfied: urllib3<1.27,>=1.21.1 in c:\\users\\okzah\\anaconda3\\lib\\site-packages (from requests) (1.26.7)\n",
      "Requirement already satisfied: certifi>=2017.4.17 in c:\\users\\okzah\\anaconda3\\lib\\site-packages (from requests) (2021.10.8)\n",
      "Requirement already satisfied: charset-normalizer~=2.0.0 in c:\\users\\okzah\\anaconda3\\lib\\site-packages (from requests) (2.0.4)\n",
      "Note: you may need to restart the kernel to use updated packages.\n"
     ]
    }
   ],
   "source": [
    "pip install requests"
   ]
  },
  {
   "cell_type": "code",
   "execution_count": 2,
   "id": "35a227cd-6f9b-4f21-9f3a-2c24dfae9d9d",
   "metadata": {},
   "outputs": [
    {
     "name": "stdout",
     "output_type": "stream",
     "text": [
      "Requirement already satisfied: pandas in c:\\users\\okzah\\anaconda3\\lib\\site-packages (1.3.4)\n",
      "Requirement already satisfied: numpy>=1.17.3 in c:\\users\\okzah\\anaconda3\\lib\\site-packages (from pandas) (1.20.3)\n",
      "Requirement already satisfied: pytz>=2017.3 in c:\\users\\okzah\\anaconda3\\lib\\site-packages (from pandas) (2021.3)\n",
      "Requirement already satisfied: python-dateutil>=2.7.3 in c:\\users\\okzah\\anaconda3\\lib\\site-packages (from pandas) (2.8.2)\n",
      "Requirement already satisfied: six>=1.5 in c:\\users\\okzah\\anaconda3\\lib\\site-packages (from python-dateutil>=2.7.3->pandas) (1.16.0)\n",
      "Note: you may need to restart the kernel to use updated packages.\n"
     ]
    }
   ],
   "source": [
    "pip install pandas"
   ]
  },
  {
   "cell_type": "code",
   "execution_count": 7,
   "id": "1f6f58cd-d507-4ca4-894c-6bfc6982c14a",
   "metadata": {},
   "outputs": [
    {
     "name": "stdout",
     "output_type": "stream",
     "text": [
      "Requirement already satisfied: openpyxl in c:\\users\\okzah\\anaconda3\\lib\\site-packages (3.0.9)\n",
      "Requirement already satisfied: et-xmlfile in c:\\users\\okzah\\anaconda3\\lib\\site-packages (from openpyxl) (1.1.0)\n",
      "Note: you may need to restart the kernel to use updated packages.\n"
     ]
    }
   ],
   "source": [
    "pip install openpyxl"
   ]
  },
  {
   "cell_type": "code",
   "execution_count": 8,
   "id": "2df3a526-f5cf-484d-8d92-56e7ecd1171c",
   "metadata": {},
   "outputs": [],
   "source": [
    "import openpyxl\n",
    "import bs4\n",
    "import pandas as pd\n",
    "import requests"
   ]
  },
  {
   "cell_type": "code",
   "execution_count": 4,
   "id": "4a79d322-598b-42a2-a9cc-30150640d71f",
   "metadata": {},
   "outputs": [
    {
     "name": "stdout",
     "output_type": "stream",
     "text": [
      "Complete page number: 1\n",
      "Complete page number: 2\n",
      "Complete page number: 3\n",
      "Complete page number: 4\n",
      "Complete page number: 5\n",
      "Complete page number: 6\n",
      "Complete page number: 7\n",
      "Complete page number: 8\n",
      "Complete page number: 9\n",
      "Complete page number: 10\n",
      "Complete page number: 11\n",
      "Complete page number: 12\n",
      "Complete page number: 13\n"
     ]
    },
    {
     "data": {
      "text/html": [
       "<div>\n",
       "<style scoped>\n",
       "    .dataframe tbody tr th:only-of-type {\n",
       "        vertical-align: middle;\n",
       "    }\n",
       "\n",
       "    .dataframe tbody tr th {\n",
       "        vertical-align: top;\n",
       "    }\n",
       "\n",
       "    .dataframe thead th {\n",
       "        text-align: right;\n",
       "    }\n",
       "</style>\n",
       "<table border=\"1\" class=\"dataframe\">\n",
       "  <thead>\n",
       "    <tr style=\"text-align: right;\">\n",
       "      <th></th>\n",
       "      <th>price</th>\n",
       "    </tr>\n",
       "    <tr>\n",
       "      <th>name</th>\n",
       "      <th></th>\n",
       "    </tr>\n",
       "  </thead>\n",
       "  <tbody>\n",
       "    <tr>\n",
       "      <th>Life Extension, CoffeeGenic, Green Coffee Extract, 400 mg, 90 Vegetarian Capsules</th>\n",
       "      <td>฿845.30</td>\n",
       "    </tr>\n",
       "    <tr>\n",
       "      <th>Leaner Creamer, Coconut Oil Coffee Creamer, Hazelnut, 9.87 oz (280 g)</th>\n",
       "      <td>฿493.09</td>\n",
       "    </tr>\n",
       "    <tr>\n",
       "      <th>California Gold Nutrition, SUPERFOODS - CafeCeps, Certified Organic Instant Coffee with Cordyceps and Reishi Mushroom Powder, 3.5 oz (100 g)</th>\n",
       "      <td>฿387.43</td>\n",
       "    </tr>\n",
       "    <tr>\n",
       "      <th>Palmer's, Coconut Hydrate Hand Cream, 3.4 oz (96 g)</th>\n",
       "      <td>฿147.64</td>\n",
       "    </tr>\n",
       "    <tr>\n",
       "      <th>Teeccino, Chicory Herbal Coffee, Java, Medium Roast, Caffeine Free, 11 oz (312 g)</th>\n",
       "      <td>฿398.27</td>\n",
       "    </tr>\n",
       "    <tr>\n",
       "      <th>...</th>\n",
       "      <td>...</td>\n",
       "    </tr>\n",
       "    <tr>\n",
       "      <th>Pacific Shaving Company, Caffeinated After Shave And Daily Face Lotion, 3.4 fl oz (100 ml)</th>\n",
       "      <td>฿246.19</td>\n",
       "    </tr>\n",
       "    <tr>\n",
       "      <th>Om Mushrooms, Chaga, Certified Organic Mushroom Powder, 7.05 oz ( 200 g)</th>\n",
       "      <td>฿1,210.18</td>\n",
       "    </tr>\n",
       "    <tr>\n",
       "      <th>Teeccino, Organic Roasted Herbal Tea, Dandelion Dark Roast, Caffeine Free, 25 Tea Bags, 5.3 oz (150 g)</th>\n",
       "      <td>฿473.05</td>\n",
       "    </tr>\n",
       "    <tr>\n",
       "      <th>California Gold Nutrition, SUPERFOODS - Supergreens Antioxidant, Greens, Fiber &amp; Probiotics, Sweet Berry, 6.34 oz (180 g)</th>\n",
       "      <td>฿845.30</td>\n",
       "    </tr>\n",
       "    <tr>\n",
       "      <th>True Citrus, True Lemon, Energy, Wild Cherry Cranberry, 6 Packets, 0.095 oz (2.7 g) Each</th>\n",
       "      <td>฿110.24</td>\n",
       "    </tr>\n",
       "  </tbody>\n",
       "</table>\n",
       "<p>308 rows × 1 columns</p>\n",
       "</div>"
      ],
      "text/plain": [
       "                                                        price\n",
       "name                                                         \n",
       "Life Extension, CoffeeGenic, Green Coffee Extra...    ฿845.30\n",
       "Leaner Creamer, Coconut Oil Coffee Creamer, Haz...    ฿493.09\n",
       "California Gold Nutrition, SUPERFOODS - CafeCep...    ฿387.43\n",
       "Palmer's, Coconut Hydrate Hand Cream, 3.4 oz (9...    ฿147.64\n",
       "Teeccino, Chicory Herbal Coffee, Java, Medium R...    ฿398.27\n",
       "...                                                       ...\n",
       "Pacific Shaving Company, Caffeinated After Shav...    ฿246.19\n",
       "Om Mushrooms, Chaga, Certified Organic Mushroom...  ฿1,210.18\n",
       "Teeccino, Organic Roasted Herbal Tea, Dandelion...    ฿473.05\n",
       "California Gold Nutrition, SUPERFOODS - Supergr...    ฿845.30\n",
       "True Citrus, True Lemon, Energy, Wild Cherry Cr...    ฿110.24\n",
       "\n",
       "[308 rows x 1 columns]"
      ]
     },
     "execution_count": 4,
     "metadata": {},
     "output_type": "execute_result"
    }
   ],
   "source": [
    "page = 1\n",
    "name_list = []\n",
    "price_list = []\n",
    "while page <= 13:\n",
    "    data = requests.get('https://th.iherb.com/search?kw=healthy+coffee&p='+ str(page))\n",
    "    soup = bs4.BeautifulSoup(data.text)\n",
    "    for c in soup.find_all('div',{'class':'product ga-product'}):\n",
    "        name_list.append(c.find('div',{'class':'product-title'}).find('bdi').text)\n",
    "        price_list.append(c.find('span',{'class':'price'}).text.split()[0])\n",
    "    print('Complete page number:',page)\n",
    "    page += 1\n",
    "\n",
    "table = pd.DataFrame([name_list,price_list]).transpose()\n",
    "table.columns = ['name','price']\n",
    "table.set_index('name')"
   ]
  },
  {
   "cell_type": "code",
   "execution_count": 10,
   "id": "fd63fdff-001e-4ada-808d-675b3facd91f",
   "metadata": {},
   "outputs": [],
   "source": [
    "table = table.set_index('name')"
   ]
  },
  {
   "cell_type": "code",
   "execution_count": 11,
   "id": "f9436eb0-af99-4f38-93b7-3a9874a46b25",
   "metadata": {},
   "outputs": [],
   "source": [
    "table.to_excel('All coffee.xlsx',engine='openpyxl')"
   ]
  },
  {
   "cell_type": "code",
   "execution_count": null,
   "id": "603bb15e-ab87-407f-a1d2-356e435007b8",
   "metadata": {},
   "outputs": [],
   "source": []
  }
 ],
 "metadata": {
  "kernelspec": {
   "display_name": "Python 3 (ipykernel)",
   "language": "python",
   "name": "python3"
  },
  "language_info": {
   "codemirror_mode": {
    "name": "ipython",
    "version": 3
   },
   "file_extension": ".py",
   "mimetype": "text/x-python",
   "name": "python",
   "nbconvert_exporter": "python",
   "pygments_lexer": "ipython3",
   "version": "3.9.7"
  }
 },
 "nbformat": 4,
 "nbformat_minor": 5
}
